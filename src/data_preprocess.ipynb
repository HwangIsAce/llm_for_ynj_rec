{
 "cells": [
  {
   "cell_type": "markdown",
   "metadata": {},
   "source": [
    "### tourAPI files"
   ]
  },
  {
   "cell_type": "code",
   "execution_count": null,
   "metadata": {},
   "outputs": [],
   "source": [
    "## tourAPI - consolidate multiple split files in one file\n",
    "\n",
    "import os\n",
    "\n",
    "from utils import integration_xls\n",
    "\n",
    "base_dir = \"C:/Users/TAKO/Desktop/yanolja/data/raw_dataset/TourAPI\"\n",
    "directory_list = [name for name in os.listdir(base_dir) if os.path.isdir(os.path.join(base_dir, name))]\n",
    "\n",
    "for directory_ in directory_list:\n",
    "    integration_xls((os.path.join(base_dir, directory_)).replace('\\\\', '/'))\n"
   ]
  },
  {
   "cell_type": "code",
   "execution_count": null,
   "metadata": {},
   "outputs": [],
   "source": []
  },
  {
   "cell_type": "markdown",
   "metadata": {},
   "source": [
    "### aihub - KVQA"
   ]
  },
  {
   "cell_type": "code",
   "execution_count": null,
   "metadata": {},
   "outputs": [
    {
     "data": {
      "application/vnd.jupyter.widget-view+json": {
       "model_id": "0d019b18861947ee8eb369549d300c24",
       "version_major": 2,
       "version_minor": 0
      },
      "text/plain": [
       "Processing JSON files:   0%|          | 0/153762 [00:00<?, ?it/s]"
      ]
     },
     "metadata": {},
     "output_type": "display_data"
    },
    {
     "name": "stdout",
     "output_type": "stream",
     "text": [
      "\n",
      "총 0개의 파일이 스킵되었습니다.\n"
     ]
    }
   ],
   "source": [
    "## aihub (KVQA) - many files to 1 csv file\n",
    "\n",
    "import os\n",
    "import json\n",
    "import pandas as pd\n",
    "from multiprocessing import Pool, Manager, cpu_count\n",
    "from tqdm.notebook import tqdm\n",
    "import chardet\n",
    "\n",
    "base_directory = '/home/hwang/projects/yanolja/data/raw_dataset/aihub/KVQA'\n",
    "output_path = '/home/hwang/projects/yanolja/data/dataset/aihub/KVQA/KVQA.csv'\n",
    "\n",
    "def detect_encoding(file_path):\n",
    "    with open(file_path, 'rb') as f:\n",
    "        result = chardet.detect(f.read())\n",
    "        return result['encoding']\n",
    "\n",
    "def process_file(args):\n",
    "    filename, file_path, skip_list = args\n",
    "    \n",
    "    encoding = detect_encoding(file_path)\n",
    "    \n",
    "    try:\n",
    "        with open(file_path, 'r', encoding=encoding, errors='ignore') as file:\n",
    "            json_data = json.load(file)\n",
    "        \n",
    "        result = {\n",
    "            \"file_name\": filename,\n",
    "            \"content\": json.dumps(json_data, ensure_ascii=False)\n",
    "        }\n",
    "    except (json.JSONDecodeError, UnicodeDecodeError) as e:\n",
    "        skip_list.append(filename)\n",
    "        return None\n",
    "    \n",
    "    return result\n",
    "\n",
    "def main():\n",
    "    files = []\n",
    "    for root, _, filenames in os.walk(base_directory):\n",
    "        for filename in filenames:\n",
    "            if filename.endswith('.json'):\n",
    "                file_path = os.path.join(root, filename)\n",
    "                files.append((filename, file_path))\n",
    "\n",
    "    num_files = len(files)\n",
    "\n",
    "    manager = Manager()\n",
    "    skip_list = manager.list() \n",
    "    \n",
    "    data = []\n",
    "    with Pool(processes=cpu_count()) as pool:\n",
    "        with tqdm(total=num_files, desc=\"Processing JSON files\") as progress_bar:\n",
    "            for result in pool.imap_unordered(process_file, [(filename, file_path, skip_list) for filename, file_path in files]):\n",
    "                if result is not None:\n",
    "                    data.append(result)\n",
    "                progress_bar.update(1)\n",
    "    \n",
    "    df = pd.DataFrame(data)\n",
    "    df.to_csv(output_path, index=False, encoding='utf-8-sig')\n",
    "    \n",
    "    print(f\"\\n총 {len(skip_list)}개의 파일이 스킵되었습니다.\")\n",
    "    if skip_list:\n",
    "        print(\"스킵된 파일 목록:\")\n",
    "        for skipped_file in skip_list:\n",
    "            print(f\"- {skipped_file}\")\n",
    "\n",
    "main()\n"
   ]
  },
  {
   "cell_type": "code",
   "execution_count": 13,
   "metadata": {},
   "outputs": [],
   "source": [
    "import pandas as pd\n",
    "\n",
    "qa = pd.read_csv(\"/home/hwang/projects/yanolja/data/dataset/aihub/KVQA/KVQA.csv\")"
   ]
  },
  {
   "cell_type": "code",
   "execution_count": 19,
   "metadata": {},
   "outputs": [
    {
     "data": {
      "text/plain": [
       "153762"
      ]
     },
     "execution_count": 19,
     "metadata": {},
     "output_type": "execute_result"
    }
   ],
   "source": [
    "len(qa)"
   ]
  },
  {
   "cell_type": "code",
   "execution_count": 33,
   "metadata": {},
   "outputs": [],
   "source": [
    "seoul_file_name = []; seoul_content = []\n",
    "for i in range(len(qa)):\n",
    "    tmp_file_nmae = qa.iloc[i]['file_name']\n",
    "    tmp_content = qa.iloc[i]['content']\n",
    "\n",
    "    if json.loads(tmp_content)['data']['area'] == '서울':\n",
    "        seoul_file_name.append(tmp_file_nmae)\n",
    "        seoul_content.append(tmp_content)"
   ]
  },
  {
   "cell_type": "code",
   "execution_count": 35,
   "metadata": {},
   "outputs": [
    {
     "data": {
      "text/html": [
       "<div>\n",
       "<style scoped>\n",
       "    .dataframe tbody tr th:only-of-type {\n",
       "        vertical-align: middle;\n",
       "    }\n",
       "\n",
       "    .dataframe tbody tr th {\n",
       "        vertical-align: top;\n",
       "    }\n",
       "\n",
       "    .dataframe thead th {\n",
       "        text-align: right;\n",
       "    }\n",
       "</style>\n",
       "<table border=\"1\" class=\"dataframe\">\n",
       "  <thead>\n",
       "    <tr style=\"text-align: right;\">\n",
       "      <th></th>\n",
       "      <th>file_name</th>\n",
       "      <th>content</th>\n",
       "    </tr>\n",
       "  </thead>\n",
       "  <tbody>\n",
       "    <tr>\n",
       "      <th>0</th>\n",
       "      <td>qa_66137_0_su_3_핫트랙스 디큐브시티점_1.json</td>\n",
       "      <td>{\"data\": {\"dataset\": \"2-083-219\", \"POI_id\": \"6...</td>\n",
       "    </tr>\n",
       "    <tr>\n",
       "      <th>1</th>\n",
       "      <td>qa_696160_0_su_3_유니클로 현대백화점 목동점_1.json</td>\n",
       "      <td>{\"data\": {\"dataset\": \"2-083-219\", \"POI_id\": \"6...</td>\n",
       "    </tr>\n",
       "    <tr>\n",
       "      <th>2</th>\n",
       "      <td>qa_652456_0_su_3_ABC마트 ST 대학로점_1.json</td>\n",
       "      <td>{\"data\": {\"dataset\": \"2-083-219\", \"POI_id\": \"6...</td>\n",
       "    </tr>\n",
       "  </tbody>\n",
       "</table>\n",
       "</div>"
      ],
      "text/plain": [
       "                                file_name  \\\n",
       "0      qa_66137_0_su_3_핫트랙스 디큐브시티점_1.json   \n",
       "1  qa_696160_0_su_3_유니클로 현대백화점 목동점_1.json   \n",
       "2   qa_652456_0_su_3_ABC마트 ST 대학로점_1.json   \n",
       "\n",
       "                                             content  \n",
       "0  {\"data\": {\"dataset\": \"2-083-219\", \"POI_id\": \"6...  \n",
       "1  {\"data\": {\"dataset\": \"2-083-219\", \"POI_id\": \"6...  \n",
       "2  {\"data\": {\"dataset\": \"2-083-219\", \"POI_id\": \"6...  "
      ]
     },
     "execution_count": 35,
     "metadata": {},
     "output_type": "execute_result"
    }
   ],
   "source": [
    "import pandas as pd\n",
    "\n",
    "seoul_qa = pd.DataFrame({'file_name': seoul_file_name, 'content': seoul_content})\n",
    "\n",
    "seoul_qa.head(3)"
   ]
  },
  {
   "cell_type": "code",
   "execution_count": 59,
   "metadata": {},
   "outputs": [
    {
     "data": {
      "text/plain": [
       "'{\"data\": {\"dataset\": \"2-083-219\", \"POI_id\": \"66137\", \"travelType\": \"쇼핑\", \"place\": \"핫트랙스 디큐브시티점\", \"area\": \"서울\"}, \"imageInfo\": [{\"image_id\": 0, \"filename\": \"66137_0_su_3_핫트랙스 디큐브시티점_1_001.png\", \"mapx\": 37.5081230677129, \"mapy\": 126.888212953215, \"width\": 3840, \"height\": 2160, \"caption_info\": [\"핫트랙스 디큐브시티점(신도림동)\", \"간판\"]}, {\"image_id\": 1, \"filename\": \"66137_0_su_3_핫트랙스 디큐브시티점_1_002.png\", \"mapx\": 37.5081230677129, \"mapy\": 126.888212953215, \"width\": 3840, \"height\": 2160, \"caption_info\": [\"핫트랙스 디큐브시티점(신도림동)\", \"건물\"]}, {\"image_id\": 2, \"filename\": \"66137_0_su_3_핫트랙스 디큐브시티점_1_003.png\", \"mapx\": 37.5081230677129, \"mapy\": 126.888212953215, \"width\": 3840, \"height\": 2160, \"caption_info\": [\"핫트랙스 디큐브시티점(신도림동)\", \"진열대\"]}, {\"image_id\": 3, \"filename\": \"66137_0_su_3_핫트랙스 디큐브시티점_1_004.png\", \"mapx\": 37.5081230677129, \"mapy\": 126.888212953215, \"width\": 3840, \"height\": 2160, \"caption_info\": [\"핫트랙스 디큐브시티점(신도림동)\", \"진열대\"]}, {\"image_id\": 4, \"filename\": \"66137_0_su_3_핫트랙스 디큐브시티점_1_005.png\", \"mapx\": 37.5081230677129, \"mapy\": 126.888212953215, \"width\": 3840, \"height\": 2160, \"caption_info\": [\"핫트랙스 디큐브시티점(신도림동)\", \"진열대\"]}], \"annotations\": [{\"image_id\": 0, \"question\": [{\"question_id\": 0, \"question_type\": \"탐색\", \"question\": \"주차시설이 있는지 알 수 있나요?\", \"question_wordNum\": 5, \"answer\": \"있음\", \"answer_wordNum\": 1, \"fact\": [\"핫트랙스 디큐브시티점,주차시설,있음\"]}, {\"question_id\": 1, \"question_type\": \"정보\", \"question\": \"영업시간은 몇시부터 몇시까지로 기재되어 있나요?\", \"question_wordNum\": 5, \"answer\": \"11:00 - 21:30\", \"answer_wordNum\": 3, \"fact\": [\"핫트랙스 디큐브시티점,영업시간,11:00 - 21:30\"]}, {\"question_id\": 2, \"question_type\": \"정보\", \"question\": \"연락처가 어떻게 되나요?\", \"question_wordNum\": 3, \"answer\": \"02-3667-9961\", \"answer_wordNum\": 1, \"fact\": [\"핫트랙스 디큐브시티점,연락처,02-3667-9961\"]}, {\"question_id\": 3, \"question_type\": \"정보\", \"question\": \"이 곳의 주소는 어떻게 되나요?\", \"question_wordNum\": 5, \"answer\": \"서울 구로구 경인로 662 현대백화점 디큐브시티 지하 1층\", \"answer_wordNum\": 8, \"fact\": [\"핫트랙스 디큐브시티점,주소,서울 구로구 경인로 662 현대백화점 디큐브시티 지하 1층\"]}]}, {\"image_id\": 1, \"question\": [{\"question_id\": 0, \"question_type\": \"정보\", \"question\": \"휴무일은 어떻게 되나요?\", \"question_wordNum\": 3, \"answer\": \"알수없음\", \"answer_wordNum\": 1, \"fact\": [\"핫트랙스 디큐브시티점,휴무일,알수없음\"]}, {\"question_id\": 1, \"question_type\": \"탐색\", \"question\": \"주차시설이 있는지 알 수 있나요?\", \"question_wordNum\": 5, \"answer\": \"있음\", \"answer_wordNum\": 1, \"fact\": [\"핫트랙스 디큐브시티점,주차시설,있음\"]}, {\"question_id\": 2, \"question_type\": \"정보\", \"question\": \"이 곳의 주소는 어떻게 되나요?\", \"question_wordNum\": 5, \"answer\": \"서울 구로구 경인로 662 현대백화점 디큐브시티 지하 1층\", \"answer_wordNum\": 8, \"fact\": [\"핫트랙스 디큐브시티점,주소,서울 구로구 경인로 662 현대백화점 디큐브시티 지하 1층\"]}, {\"question_id\": 3, \"question_type\": \"정보\", \"question\": \"영업시간은 몇시부터 몇시까지로 기재되어 있나요?\", \"question_wordNum\": 5, \"answer\": \"11:00 - 21:30\", \"answer_wordNum\": 3, \"fact\": [\"핫트랙스 디큐브시티점,영업시간,11:00 - 21:30\"]}]}, {\"image_id\": 2, \"question\": [{\"question_id\": 0, \"question_type\": \"정보\", \"question\": \"휴무일을 알 수 있나요?\", \"question_wordNum\": 4, \"answer\": \"알수없음\", \"answer_wordNum\": 1, \"fact\": [\"핫트랙스 디큐브시티점,휴무일,알수없음\"]}, {\"question_id\": 1, \"question_type\": \"탐색\", \"question\": \"주차시설이 있는지 알 수 있나요?\", \"question_wordNum\": 5, \"answer\": \"있음\", \"answer_wordNum\": 1, \"fact\": [\"핫트랙스 디큐브시티점,주차시설,있음\"]}, {\"question_id\": 2, \"question_type\": \"정보\", \"question\": \"연락처를 알 수 있나요?\", \"question_wordNum\": 4, \"answer\": \"02-3667-9961\", \"answer_wordNum\": 1, \"fact\": [\"핫트랙스 디큐브시티점,연락처,02-3667-9961\"]}, {\"question_id\": 3, \"question_type\": \"정보\", \"question\": \"영업시간은 어떻게 되나요?\", \"question_wordNum\": 3, \"answer\": \"11:00 - 21:30\", \"answer_wordNum\": 3, \"fact\": [\"핫트랙스 디큐브시티점,영업시간,11:00 - 21:30\"]}]}, {\"image_id\": 3, \"question\": [{\"question_id\": 0, \"question_type\": \"정보\", \"question\": \"휴무일을 알 수 있나요?\", \"question_wordNum\": 4, \"answer\": \"알수없음\", \"answer_wordNum\": 1, \"fact\": [\"핫트랙스 디큐브시티점,휴무일,알수없음\"]}, {\"question_id\": 1, \"question_type\": \"탐색\", \"question\": \"주차시설이 있는지 알 수 있나요?\", \"question_wordNum\": 5, \"answer\": \"있음\", \"answer_wordNum\": 1, \"fact\": [\"핫트랙스 디큐브시티점,주차시설,있음\"]}, {\"question_id\": 2, \"question_type\": \"정보\", \"question\": \"연락처가 어떻게 되나요?\", \"question_wordNum\": 3, \"answer\": \"02-3667-9961\", \"answer_wordNum\": 1, \"fact\": [\"핫트랙스 디큐브시티점,연락처,02-3667-9961\"]}, {\"question_id\": 3, \"question_type\": \"정보\", \"question\": \"이 곳의 주소를 알 수 있나요?\", \"question_wordNum\": 6, \"answer\": \"서울 구로구 경인로 662 현대백화점 디큐브시티 지하 1층\", \"answer_wordNum\": 8, \"fact\": [\"핫트랙스 디큐브시티점,주소,서울 구로구 경인로 662 현대백화점 디큐브시티 지하 1층\"]}]}, {\"image_id\": 4, \"question\": [{\"question_id\": 0, \"question_type\": \"탐색\", \"question\": \"주차시설이 있나요?\", \"question_wordNum\": 2, \"answer\": \"있음\", \"answer_wordNum\": 1, \"fact\": [\"핫트랙스 디큐브시티점,주차시설,있음\"]}, {\"question_id\": 1, \"question_type\": \"정보\", \"question\": \"연락처가 어떻게 되나요?\", \"question_wordNum\": 3, \"answer\": \"02-3667-9961\", \"answer_wordNum\": 1, \"fact\": [\"핫트랙스 디큐브시티점,연락처,02-3667-9961\"]}, {\"question_id\": 2, \"question_type\": \"정보\", \"question\": \"영업시간은 어떻게 되나요?\", \"question_wordNum\": 3, \"answer\": \"11:00 - 21:30\", \"answer_wordNum\": 3, \"fact\": [\"핫트랙스 디큐브시티점,영업시간,11:00 - 21:30\"]}, {\"question_id\": 3, \"question_type\": \"정보\", \"question\": \"이 곳의 주소를 알 수 있나요?\", \"question_wordNum\": 6, \"answer\": \"서울 구로구 경인로 662 현대백화점 디큐브시티 지하 1층\", \"answer_wordNum\": 8, \"fact\": [\"핫트랙스 디큐브시티점,주소,서울 구로구 경인로 662 현대백화점 디큐브시티 지하 1층\"]}]}]}'"
      ]
     },
     "execution_count": 59,
     "metadata": {},
     "output_type": "execute_result"
    }
   ],
   "source": [
    "seoul_qa.iloc[0]['content']"
   ]
  },
  {
   "cell_type": "code",
   "execution_count": 43,
   "metadata": {},
   "outputs": [],
   "source": [
    "place_list = []\n",
    "\n",
    "for i in range(len(seoul_qa)):\n",
    "    place_list.append(json.loads(seoul_qa.iloc[i]['content'])['data']['place'])"
   ]
  },
  {
   "cell_type": "code",
   "execution_count": 44,
   "metadata": {},
   "outputs": [
    {
     "data": {
      "text/plain": [
       "['핫트랙스 디큐브시티점', '유니클로 현대백화점 목동점', 'ABC마트 ST 대학로점', '에잇세컨즈 명동점', '신원시장']"
      ]
     },
     "execution_count": 44,
     "metadata": {},
     "output_type": "execute_result"
    }
   ],
   "source": [
    "place_list[:5]"
   ]
  },
  {
   "cell_type": "markdown",
   "metadata": {},
   "source": [
    "### aihub - corpus"
   ]
  },
  {
   "cell_type": "code",
   "execution_count": null,
   "metadata": {},
   "outputs": [],
   "source": [
    "## aihub (corpus) - many files to 1 csv file \n",
    "\n",
    "import os\n",
    "import json\n",
    "import pandas as pd\n",
    "from multiprocessing import Pool, Manager, cpu_count\n",
    "from tqdm.notebook import tqdm\n",
    "import chardet\n",
    "\n",
    "directory_path = '/home/hwang/projects/yanolja/data/raw_dataset/aihub/corpus'\n",
    "output_path = '/home/hwang/projects/yanolja/data/dataset/aihub/corpus/corpus.csv'\n",
    "\n",
    "def detect_encoding(file_path):\n",
    "    with open(file_path, 'rb') as f:\n",
    "        result = chardet.detect(f.read())\n",
    "        return result['encoding']\n",
    "\n",
    "def process_file(args):\n",
    "    filename, queue, skip_list = args\n",
    "    file_path = os.path.join(directory_path, filename)\n",
    "    \n",
    "    encoding = detect_encoding(file_path)\n",
    "    \n",
    "    try:\n",
    "        with open(file_path, 'r', encoding=encoding, errors='ignore') as file:\n",
    "            json_data = json.load(file)\n",
    "        \n",
    "        result = {\n",
    "            \"file_name\": filename,\n",
    "            \"content\": json.dumps(json_data, ensure_ascii=False)\n",
    "        }\n",
    "    except (json.JSONDecodeError, UnicodeDecodeError) as e:\n",
    "        skip_list.append(filename)\n",
    "        return None\n",
    "    \n",
    "    queue.put(1)\n",
    "    return result\n",
    "\n",
    "def main():\n",
    "    files = [f for f in os.listdir(directory_path) if f.endswith('.json') or f.endswith('.txt')]\n",
    "    num_files = len(files)\n",
    "    \n",
    "    manager = Manager()\n",
    "    queue = manager.Queue()\n",
    "    skip_list = manager.list() \n",
    "    \n",
    "    data = []\n",
    "    with Pool(processes=cpu_count()) as pool:\n",
    "        with tqdm(total=num_files, desc=\"Processing JSON files\") as progress_bar:\n",
    "            for result in pool.imap_unordered(process_file, [(filename, queue, skip_list) for filename in files]):\n",
    "                if result is not None:\n",
    "                    data.append(result)\n",
    "                progress_bar.update(1)\n",
    "    \n",
    "    df = pd.DataFrame(data)\n",
    "    df.to_csv(output_path, index=False, encoding='utf-8-sig')\n",
    "    \n",
    "    print(f\"\\n총 {len(skip_list)}개의 파일이 스킵되었습니다.\")\n",
    "    if skip_list:\n",
    "        print(\"스킵된 파일 목록:\")\n",
    "        for skipped_file in skip_list:\n",
    "            print(f\"- {skipped_file}\")\n",
    "\n",
    "main()\n"
   ]
  },
  {
   "cell_type": "code",
   "execution_count": null,
   "metadata": {},
   "outputs": [],
   "source": [
    "import pandas as pd\n",
    "\n",
    "corpus = pd.read_csv(\"/home/hwang/projects/yanolja/data/dataset/aihub/corpus/corpus.csv\")"
   ]
  },
  {
   "cell_type": "code",
   "execution_count": null,
   "metadata": {},
   "outputs": [],
   "source": [
    "print(len(corpus))"
   ]
  },
  {
   "cell_type": "code",
   "execution_count": 51,
   "metadata": {},
   "outputs": [
    {
     "data": {
      "text/html": [
       "<div>\n",
       "<style scoped>\n",
       "    .dataframe tbody tr th:only-of-type {\n",
       "        vertical-align: middle;\n",
       "    }\n",
       "\n",
       "    .dataframe tbody tr th {\n",
       "        vertical-align: top;\n",
       "    }\n",
       "\n",
       "    .dataframe thead th {\n",
       "        text-align: right;\n",
       "    }\n",
       "</style>\n",
       "<table border=\"1\" class=\"dataframe\">\n",
       "  <thead>\n",
       "    <tr style=\"text-align: right;\">\n",
       "      <th></th>\n",
       "      <th>file_name</th>\n",
       "      <th>content</th>\n",
       "    </tr>\n",
       "  </thead>\n",
       "  <tbody>\n",
       "    <tr>\n",
       "      <th>0</th>\n",
       "      <td>관광 콘텐츠_관광지_자연관광_온라인_네이버_대부잠수교_E_48_231016.json</td>\n",
       "      <td>{\"info\": {\"creator\": \"세명소프트\", \"description\": \"...</td>\n",
       "    </tr>\n",
       "    <tr>\n",
       "      <th>1</th>\n",
       "      <td>관광 콘텐츠_관광지_문화관광_온라인_한국민족문화대백과사전_고창북중학교_W_3_230...</td>\n",
       "      <td>{\"info\": {\"creator\": \"세명소프트\", \"description\": \"...</td>\n",
       "    </tr>\n",
       "    <tr>\n",
       "      <th>2</th>\n",
       "      <td>관광 콘텐츠_관광지_역사관광_온라인_기타_봉일사지삼층석탑_S_4_231011.json</td>\n",
       "      <td>{\"info\": {\"creator\": \"세명소프트\", \"description\": \"...</td>\n",
       "    </tr>\n",
       "    <tr>\n",
       "      <th>3</th>\n",
       "      <td>관광 콘텐츠_관광지_역사관광_온라인_네이버_동복향교_W_54_231030.json</td>\n",
       "      <td>{\"info\": {\"creator\": \"세명소프트\", \"description\": \"...</td>\n",
       "    </tr>\n",
       "    <tr>\n",
       "      <th>4</th>\n",
       "      <td>관광 콘텐츠_관광지_문화관광_온라인_네이버_부천문화원_S_20_231006.json</td>\n",
       "      <td>{\"info\": {\"creator\": \"세명소프트\", \"description\": \"...</td>\n",
       "    </tr>\n",
       "  </tbody>\n",
       "</table>\n",
       "</div>"
      ],
      "text/plain": [
       "                                           file_name  \\\n",
       "0     관광 콘텐츠_관광지_자연관광_온라인_네이버_대부잠수교_E_48_231016.json   \n",
       "1  관광 콘텐츠_관광지_문화관광_온라인_한국민족문화대백과사전_고창북중학교_W_3_230...   \n",
       "2    관광 콘텐츠_관광지_역사관광_온라인_기타_봉일사지삼층석탑_S_4_231011.json   \n",
       "3      관광 콘텐츠_관광지_역사관광_온라인_네이버_동복향교_W_54_231030.json   \n",
       "4     관광 콘텐츠_관광지_문화관광_온라인_네이버_부천문화원_S_20_231006.json   \n",
       "\n",
       "                                             content  \n",
       "0  {\"info\": {\"creator\": \"세명소프트\", \"description\": \"...  \n",
       "1  {\"info\": {\"creator\": \"세명소프트\", \"description\": \"...  \n",
       "2  {\"info\": {\"creator\": \"세명소프트\", \"description\": \"...  \n",
       "3  {\"info\": {\"creator\": \"세명소프트\", \"description\": \"...  \n",
       "4  {\"info\": {\"creator\": \"세명소프트\", \"description\": \"...  "
      ]
     },
     "execution_count": 51,
     "metadata": {},
     "output_type": "execute_result"
    }
   ],
   "source": [
    "corpus.head()"
   ]
  },
  {
   "cell_type": "code",
   "execution_count": 58,
   "metadata": {},
   "outputs": [
    {
     "name": "stdout",
     "output_type": "stream",
     "text": [
      "관광 콘텐츠_관광지_자연관광_온라인_네이버_대부잠수교_E_48_231016.json\n",
      "{\"info\": {\"creator\": \"세명소프트\", \"description\": \"관광 특화 말뭉치\"}, \"tour_info\": {\"file_name\": \"관광 콘텐츠_관광지_자연관광_온라인_네이버_대부잠수교_E_48_231016.csv\", \"Main_cate\": \"관광 콘텐츠\", \"2nd_cate\": \"관광지\", \"3rd_cate\": \"자연관광\", \"method\": \"온라인\", \"source\": \"네이버\", \"Tourist Spot\": \"대부잠수교\", \"location\": \"E\", \"docu_num\": \"48\", \"date\": \"231016\"}, \"docu_info\": {\"content\": \"대부잠수교\", \"contains\": \"관광지명 대부잠수교 개요 대구에서 경산으로 향하는 길에 자리한 대부 잠수교는 아름다운 산책로로 유명하다 이곳은 계절마다 다른 매력을 선사한다 봄이면 파릇파릇한 보리 싹들이 마음을 설레게 하고, 싱그러운 청보리가 맞아준다 강변을 따라 바람과 청보리가 만드는 화음은 마음을 맑게 한다 여름에는 황금빛 해바라기가 물결을 이루며 고흐의 그림 같은 풍경을 연상시킨다 주소(AD) 경상북도 경산시 하양읍 대조리 전화번호(TE) 053-810-5363 부대정보(UN) 주차가능\", \"count\": \"51\", \"sentences\": [{\"sentcenceId\": \"0001\", \"sentence\": \"관광지명 대부잠수교\", \"annotations\": [{\"TagText\": \"대부잠수교\", \"TagId\": \"001\", \"Tagclass\": \"O\", \"TagCode\": \"AF\", \"startPos\": 5, \"endPos\": 9}], \"sentence_Tagclass\": \"\"}, {\"sentcenceId\": \"0002\", \"sentence\": \"개요 대구에서 경산으로 향하는 길에 자리한 대부 잠수교는 아름다운 산책로로 유명하다\", \"annotations\": [{\"TagText\": \"대구\", \"TagId\": \"001\", \"Tagclass\": \"O\", \"TagCode\": \"LC\", \"startPos\": 3, \"endPos\": 4}, {\"TagText\": \"아름다운\", \"TagId\": \"002\", \"Tagclass\": \"E\", \"TagCode\": \"P\", \"startPos\": 32, \"endPos\": 35}, {\"TagText\": \"경산\", \"TagId\": \"003\", \"Tagclass\": \"O\", \"TagCode\": \"LC\", \"startPos\": 8, \"endPos\": 9}, {\"TagText\": \"유명하다\", \"TagId\": \"004\", \"Tagclass\": \"E\", \"TagCode\": \"P\", \"startPos\": 42, \"endPos\": 45}], \"sentence_Tagclass\": \"P\"}, {\"sentcenceId\": \"0003\", \"sentence\": \"이곳은 계절마다 다른 매력을 선사한다\", \"annotations\": [{\"TagText\": \"계절마다\", \"TagId\": \"001\", \"Tagclass\": \"O\", \"TagCode\": \"DT\", \"startPos\": 4, \"endPos\": 7}], \"sentence_Tagclass\": \"\"}, {\"sentcenceId\": \"0004\", \"sentence\": \"봄이면 파릇파릇한 보리 싹들이 마음을 설레게 하고, 싱그러운 청보리가 맞아준다\", \"annotations\": [{\"TagText\": \"설레게\", \"TagId\": \"001\", \"Tagclass\": \"E\", \"TagCode\": \"P\", \"startPos\": 21, \"endPos\": 23}, {\"TagText\": \"봄\", \"TagId\": \"002\", \"Tagclass\": \"O\", \"TagCode\": \"DT\", \"startPos\": 0, \"endPos\": 0}], \"sentence_Tagclass\": \"P\"}, {\"sentcenceId\": \"0005\", \"sentence\": \"강변을 따라 바람과 청보리가 만드는 화음은 마음을 맑게 한다\", \"annotations\": [{\"TagText\": \"맑게\", \"TagId\": \"001\", \"Tagclass\": \"E\", \"TagCode\": \"P\", \"startPos\": 28, \"endPos\": 29}], \"sentence_Tagclass\": \"P\"}, {\"sentcenceId\": \"0006\", \"sentence\": \"여름에는 황금빛 해바라기가 물결을 이루며 고흐의 그림 같은 풍경을 연상시킨다\", \"annotations\": [{\"TagText\": \"고흐\", \"TagId\": \"001\", \"Tagclass\": \"O\", \"TagCode\": \"PS\", \"startPos\": 23, \"endPos\": 24}, {\"TagText\": \"여름\", \"TagId\": \"002\", \"Tagclass\": \"O\", \"TagCode\": \"DT\", \"startPos\": 0, \"endPos\": 1}], \"sentence_Tagclass\": \"\"}, {\"sentcenceId\": \"0007\", \"sentence\": \"주소(AD) 경상북도 경산시 하양읍 대조리\", \"annotations\": [{\"TagText\": \"경상북도\", \"TagId\": \"001\", \"Tagclass\": \"A\", \"TagCode\": \"AD\", \"startPos\": 7, \"endPos\": 10}, {\"TagText\": \"경산시\", \"TagId\": \"002\", \"Tagclass\": \"A\", \"TagCode\": \"AD\", \"startPos\": 12, \"endPos\": 14}, {\"TagText\": \"하양읍\", \"TagId\": \"003\", \"Tagclass\": \"A\", \"TagCode\": \"AD\", \"startPos\": 16, \"endPos\": 18}, {\"TagText\": \"대조리\", \"TagId\": \"004\", \"Tagclass\": \"A\", \"TagCode\": \"AD\", \"startPos\": 20, \"endPos\": 22}], \"sentence_Tagclass\": \"\"}, {\"sentcenceId\": \"0008\", \"sentence\": \"전화번호(TE) 053-810-5363\", \"annotations\": [{\"TagText\": \"053-810-5363\", \"TagId\": \"001\", \"Tagclass\": \"A\", \"TagCode\": \"TE\", \"startPos\": 9, \"endPos\": 20}], \"sentence_Tagclass\": \"\"}, {\"sentcenceId\": \"0009\", \"sentence\": \"부대정보(UN) 주차가능\", \"annotations\": [{\"TagText\": \"주차가능\", \"TagId\": \"001\", \"Tagclass\": \"A\", \"TagCode\": \"UN\", \"startPos\": 9, \"endPos\": 12}], \"sentence_Tagclass\": \"\"}], \"TagCount\": {\"T_TagCount\": 17, \"O_TagCount\": 7, \"A_TagCount\": 6, \"E_TagCount\": 4}}}\n",
      "관광 콘텐츠_관광지_역사관광_온라인_기타_봉일사지삼층석탑_S_4_231011.json\n",
      "{\"info\": {\"creator\": \"세명소프트\", \"description\": \"관광 특화 말뭉치\"}, \"tour_info\": {\"file_name\": \"관광 콘텐츠_관광지_역사관광_온라인_기타_봉일사지삼층석탑_S_4_231011.csv\", \"Main_cate\": \"관광 콘텐츠\", \"2nd_cate\": \"관광지\", \"3rd_cate\": \"역사관광\", \"method\": \"온라인\", \"source\": \"기타\", \"Tourist Spot\": \"봉일사지삼층석탑\", \"location\": \"S\", \"docu_num\": \"4\", \"date\": \"231011\"}, \"docu_info\": {\"content\": \"봉일사지삼층석탑\", \"contains\": \"관광지명 봉일사지삼층석탑 개요 봉일사는 과거에 계양산 남쪽에 위치한 사찰로 알려져 있었습니다 그러나 창건 연대나 폐사와 관련된 기록은 없으며, 현재는 계산지구 도시계획으로 인해 사라진 상태입니다 이러한 중요한 역사적 장소인 봉일사의 탑은 백룡사 건립 시 경내로 이동되어 유일하게 인천지역의 원래 위치에 자리하고 있습니다 이 탑은 문화재적 가치가 매우 높으며, 1975년에 백룡사에서 화강석을 깍아 일부 훼손된 부분을 보완하는 작업이 이루어졌습니다. 교통(TR) 인천광역시 계양구 계양산로75번길 7-13 우편번호(PO) 032-543-1842\", \"count\": \"60\", \"sentences\": [{\"sentcenceId\": \"0001\", \"sentence\": \"관광지명 봉일사지삼층석탑\", \"annotations\": [{\"TagText\": \"봉일사지삼층석탑\", \"TagId\": \"001\", \"Tagclass\": \"O\", \"TagCode\": \"AF\", \"startPos\": 5, \"endPos\": 12}], \"sentence_Tagclass\": \"\"}, {\"sentcenceId\": \"0002\", \"sentence\": \"개요 봉일사는 과거에 계양산 남쪽에 위치한 사찰로 알려져 있었습니다\", \"annotations\": [{\"TagText\": \"계양산\", \"TagId\": \"001\", \"Tagclass\": \"O\", \"TagCode\": \"LC\", \"startPos\": 12, \"endPos\": 14}], \"sentence_Tagclass\": \"\"}, {\"sentcenceId\": \"0003\", \"sentence\": \"그러나 창건 연대나 폐사와 관련된 기록은 없으며, 현재는 계산지구 도시계획으로 인해 사라진 상태입니다\", \"annotations\": [{\"TagText\": \"계산지구\", \"TagId\": \"001\", \"Tagclass\": \"O\", \"TagCode\": \"LC\", \"startPos\": 32, \"endPos\": 35}], \"sentence_Tagclass\": \"\"}, {\"sentcenceId\": \"0004\", \"sentence\": \"이러한 중요한 역사적 장소인 봉일사의 탑은 백룡사 건립 시 경내로 이동되어 유일하게 인천지역의 원래 위치에 자리하고 있습니다\", \"annotations\": [{\"TagText\": \"백룡사\", \"TagId\": \"001\", \"Tagclass\": \"O\", \"TagCode\": \"OG\", \"startPos\": 24, \"endPos\": 26}, {\"TagText\": \"중요한\", \"TagId\": \"002\", \"Tagclass\": \"E\", \"TagCode\": \"P\", \"startPos\": 4, \"endPos\": 6}], \"sentence_Tagclass\": \"P\"}, {\"sentcenceId\": \"0005\", \"sentence\": \"이 탑은 문화재적 가치가 매우 높으며, 1975년에 백룡사에서 화강석을 깍아 일부 훼손된 부분을 보완하는 작업이 이루어졌습니다.\", \"annotations\": [{\"TagText\": \"1975년\", \"TagId\": \"001\", \"Tagclass\": \"O\", \"TagCode\": \"DT\", \"startPos\": 22, \"endPos\": 26}, {\"TagText\": \"높으며\", \"TagId\": \"002\", \"Tagclass\": \"E\", \"TagCode\": \"P\", \"startPos\": 17, \"endPos\": 19}], \"sentence_Tagclass\": \"P\"}, {\"sentcenceId\": \"0006\", \"sentence\": \"교통(TR) 인천광역시 계양구 계양산로75번길 7-13\", \"annotations\": [{\"TagText\": \"인천광역시\", \"TagId\": \"001\", \"Tagclass\": \"A\", \"TagCode\": \"TR\", \"startPos\": 7, \"endPos\": 11}, {\"TagText\": \"계양구\", \"TagId\": \"002\", \"Tagclass\": \"A\", \"TagCode\": \"TR\", \"startPos\": 13, \"endPos\": 15}, {\"TagText\": \"계양산로75번길\", \"TagId\": \"003\", \"Tagclass\": \"A\", \"TagCode\": \"TR\", \"startPos\": 17, \"endPos\": 24}, {\"TagText\": \"7-13\", \"TagId\": \"004\", \"Tagclass\": \"A\", \"TagCode\": \"TR\", \"startPos\": 26, \"endPos\": 29}], \"sentence_Tagclass\": \"\"}, {\"sentcenceId\": \"0007\", \"sentence\": \"우편번호(PO) 032-543-1842\", \"annotations\": [{\"TagText\": \"032-543-1842\", \"TagId\": \"001\", \"Tagclass\": \"A\", \"TagCode\": \"PO\", \"startPos\": 9, \"endPos\": 20}], \"sentence_Tagclass\": \"\"}], \"TagCount\": {\"T_TagCount\": 12, \"O_TagCount\": 5, \"A_TagCount\": 5, \"E_TagCount\": 2}}}\n"
     ]
    }
   ],
   "source": [
    "print(corpus.iloc[0]['file_name'])\n",
    "print(corpus.iloc[0]['content'])\n",
    "\n",
    "print(corpus.iloc[2]['file_name'])\n",
    "print(corpus.iloc[2]['content'])"
   ]
  },
  {
   "cell_type": "code",
   "execution_count": null,
   "metadata": {},
   "outputs": [
    {
     "data": {
      "text/plain": [
       "0         {\"info\": {\"creator\": \"세명소프트\", \"description\": \"...\n",
       "1         {\"info\": {\"creator\": \"세명소프트\", \"description\": \"...\n",
       "2         {\"info\": {\"creator\": \"세명소프트\", \"description\": \"...\n",
       "3         {\"info\": {\"creator\": \"세명소프트\", \"description\": \"...\n",
       "4         {\"info\": {\"creator\": \"세명소프트\", \"description\": \"...\n",
       "                                ...                        \n",
       "812635    {\"info\": {\"creator\": \"세명소프트\", \"description\": \"...\n",
       "812636    {\"info\": {\"creator\": \"세명소프트\", \"description\": \"...\n",
       "812637    {\"info\": {\"creator\": \"세명소프트\", \"description\": \"...\n",
       "812638    {\"info\": {\"creator\": \"세명소프트\", \"description\": \"...\n",
       "812639    {\"info\": {\"creator\": \"세명소프트\", \"description\": \"...\n",
       "Name: content, Length: 812640, dtype: object"
      ]
     },
     "execution_count": 62,
     "metadata": {},
     "output_type": "execute_result"
    }
   ],
   "source": [
    "json.loads(corpus['content'])"
   ]
  },
  {
   "cell_type": "code",
   "execution_count": 71,
   "metadata": {},
   "outputs": [],
   "source": [
    "\n",
    "corpus_dict = dict(zip(\n",
    "    corpus['content'].apply(lambda x: json.loads(x).get('tour_info', {}).get('Tourist Spot')),\n",
    "    corpus['content']\n",
    "))\n",
    "\n",
    "seoul_corpus = [corpus_dict.get(place, None) for place in place_list]"
   ]
  },
  {
   "cell_type": "markdown",
   "metadata": {},
   "source": [
    "### QA, corpus integration  (seoul)"
   ]
  },
  {
   "cell_type": "code",
   "execution_count": null,
   "metadata": {},
   "outputs": [],
   "source": [
    "seoul_qa_corpus = pd.DataFrame({'place': seoul_qa['file_name'], 'qa': seoul_qa['content'], 'corpus': seoul_corpus})"
   ]
  },
  {
   "cell_type": "code",
   "execution_count": 84,
   "metadata": {},
   "outputs": [
    {
     "data": {
      "text/html": [
       "<div>\n",
       "<style scoped>\n",
       "    .dataframe tbody tr th:only-of-type {\n",
       "        vertical-align: middle;\n",
       "    }\n",
       "\n",
       "    .dataframe tbody tr th {\n",
       "        vertical-align: top;\n",
       "    }\n",
       "\n",
       "    .dataframe thead th {\n",
       "        text-align: right;\n",
       "    }\n",
       "</style>\n",
       "<table border=\"1\" class=\"dataframe\">\n",
       "  <thead>\n",
       "    <tr style=\"text-align: right;\">\n",
       "      <th></th>\n",
       "      <th>place</th>\n",
       "      <th>qa</th>\n",
       "      <th>corpus</th>\n",
       "    </tr>\n",
       "  </thead>\n",
       "  <tbody>\n",
       "    <tr>\n",
       "      <th>0</th>\n",
       "      <td>qa_66137_0_su_3_핫트랙스 디큐브시티점_1.json</td>\n",
       "      <td>{\"data\": {\"dataset\": \"2-083-219\", \"POI_id\": \"6...</td>\n",
       "      <td>None</td>\n",
       "    </tr>\n",
       "    <tr>\n",
       "      <th>1</th>\n",
       "      <td>qa_696160_0_su_3_유니클로 현대백화점 목동점_1.json</td>\n",
       "      <td>{\"data\": {\"dataset\": \"2-083-219\", \"POI_id\": \"6...</td>\n",
       "      <td>{\"info\": {\"creator\": \"세명소프트\", \"description\": \"...</td>\n",
       "    </tr>\n",
       "    <tr>\n",
       "      <th>2</th>\n",
       "      <td>qa_652456_0_su_3_ABC마트 ST 대학로점_1.json</td>\n",
       "      <td>{\"data\": {\"dataset\": \"2-083-219\", \"POI_id\": \"6...</td>\n",
       "      <td>{\"info\": {\"creator\": \"세명소프트\", \"description\": \"...</td>\n",
       "    </tr>\n",
       "    <tr>\n",
       "      <th>3</th>\n",
       "      <td>qa_652515_0_su_3_에잇세컨즈 명동점_1.json</td>\n",
       "      <td>{\"data\": {\"dataset\": \"2-083-219\", \"POI_id\": \"6...</td>\n",
       "      <td>{\"info\": {\"creator\": \"세명소프트\", \"description\": \"...</td>\n",
       "    </tr>\n",
       "    <tr>\n",
       "      <th>4</th>\n",
       "      <td>qa_44629_0_su_3_신원시장_1.json</td>\n",
       "      <td>{\"data\": {\"dataset\": \"2-083-219\", \"POI_id\": \"4...</td>\n",
       "      <td>None</td>\n",
       "    </tr>\n",
       "  </tbody>\n",
       "</table>\n",
       "</div>"
      ],
      "text/plain": [
       "                                    place  \\\n",
       "0      qa_66137_0_su_3_핫트랙스 디큐브시티점_1.json   \n",
       "1  qa_696160_0_su_3_유니클로 현대백화점 목동점_1.json   \n",
       "2   qa_652456_0_su_3_ABC마트 ST 대학로점_1.json   \n",
       "3       qa_652515_0_su_3_에잇세컨즈 명동점_1.json   \n",
       "4             qa_44629_0_su_3_신원시장_1.json   \n",
       "\n",
       "                                                  qa  \\\n",
       "0  {\"data\": {\"dataset\": \"2-083-219\", \"POI_id\": \"6...   \n",
       "1  {\"data\": {\"dataset\": \"2-083-219\", \"POI_id\": \"6...   \n",
       "2  {\"data\": {\"dataset\": \"2-083-219\", \"POI_id\": \"6...   \n",
       "3  {\"data\": {\"dataset\": \"2-083-219\", \"POI_id\": \"6...   \n",
       "4  {\"data\": {\"dataset\": \"2-083-219\", \"POI_id\": \"4...   \n",
       "\n",
       "                                              corpus  \n",
       "0                                               None  \n",
       "1  {\"info\": {\"creator\": \"세명소프트\", \"description\": \"...  \n",
       "2  {\"info\": {\"creator\": \"세명소프트\", \"description\": \"...  \n",
       "3  {\"info\": {\"creator\": \"세명소프트\", \"description\": \"...  \n",
       "4                                               None  "
      ]
     },
     "execution_count": 84,
     "metadata": {},
     "output_type": "execute_result"
    }
   ],
   "source": [
    "seoul_qa_corpus.head()"
   ]
  },
  {
   "cell_type": "code",
   "execution_count": 85,
   "metadata": {},
   "outputs": [
    {
     "name": "stdout",
     "output_type": "stream",
     "text": [
      "2956\n"
     ]
    }
   ],
   "source": [
    "seoul = seoul_qa_corpus[seoul_qa_corpus['corpus'].notna()]\n",
    "\n",
    "print(len(seoul))"
   ]
  },
  {
   "cell_type": "code",
   "execution_count": null,
   "metadata": {},
   "outputs": [],
   "source": []
  },
  {
   "cell_type": "markdown",
   "metadata": {},
   "source": [
    "### make instruction dataset using GPT API"
   ]
  },
  {
   "cell_type": "code",
   "execution_count": null,
   "metadata": {},
   "outputs": [],
   "source": [
    "## raw dataset -> instruction dataset \n",
    "import os\n",
    "import openai\n",
    "from dotenv import load_dotenv\n",
    "\n",
    "load_dotenv()\n",
    "openai.api_key = os.getenv(\"OPENAI_API_KEY\")\n",
    "\n",
    "def generate_tourism_qa(location_name, description):\n",
    "    \n",
    "    prompt = f\"\"\"\n",
    "    당신이 전문 AI 여행 도우미라고 가정해 보겠습니다. 아래 제공된 정보를 바탕으로 이 관광지에 대한 논리적인 질문과 그 독특한 측면과 방문객의 매력을 설명하는 자세한 답변을 사실에 기반하여 작성하세요.\n",
    "\n",
    "    관광지: {location_name}\n",
    "    관광지 개요: {description}\n",
    "\n",
    "    생성:\n",
    "    - 질문: 컨설팅 어조로, 이 관광지에 대해 관광지 개요를 참고하여 1~3 문장의 질문 3가지를 작성하세요.\n",
    "    - 답변: 각 질문에 대해서 관광지 개요를 참고하여 해당 관광지의 매력, 분위기, 역사, 특징을 자세히 설명하는 8~12개의 문장으로 답하세요. 독자에게 친숙하고 접근하기 쉽고 포괄적인 내용을 유지하며 반드시 사실에 기반하여 답변해야 합니다..\n",
    "    \"\"\"\n",
    "\n",
    "    response = openai.chat.completions.create(\n",
    "        model=\"gpt-4o-mini\",\n",
    "        messages=[\n",
    "            {\"role\": \"system\", \"content\": \"당신은 전문 AI 여행 도우미입니다.\"},\n",
    "            {\"role\": \"user\", \"content\": prompt}\n",
    "        ],\n",
    "        temperature=0.7\n",
    "    )\n",
    "\n",
    "    question_answer = response.choices[0].message.content\n",
    "    return question_answer"
   ]
  },
  {
   "cell_type": "code",
   "execution_count": null,
   "metadata": {},
   "outputs": [],
   "source": [
    "## raw dataset => instruction dataset\n",
    "\n",
    "import pandas as pd\n",
    "\n",
    "data = pd.read_excel(r'C:\\Users\\TAKO\\Desktop\\yanolja\\data\\dataset\\tourAPI\\touristAttractions.xls')\n",
    "data = data[0:500]\n",
    "\n",
    "qa_pairs = []\n",
    "for ind, row in data.iterrows():\n",
    "    location_name = row['명칭']\n",
    "    description = row['개요']\n",
    "\n",
    "    qa = generate_tourism_qa(location_name, description)\n",
    "\n",
    "    qa_pairs.append({\n",
    "        'touristAttractions': location_name,\n",
    "        'QA': qa,\n",
    "    })\n",
    "\n",
    "\n",
    "qa_df = pd.DataFrame(qa_pairs)\n",
    "qa_df.to_csv(r'C:\\Users\\TAKO\\Desktop\\yanolja\\data\\instruction_dataset\\tourAPI\\qa_touristattr_name_description_gpt4o_mini_1106.csv', index=False)"
   ]
  },
  {
   "cell_type": "code",
   "execution_count": 59,
   "metadata": {},
   "outputs": [
    {
     "data": {
      "text/plain": [
       "[' 질문 1:\\n수성못 유원지의 역사적 배경은 무엇이며, 이곳의 조성 과정에서 어떤 중요한 사건이 있었나요?\\n\\n',\n",
       " ' 답변:\\n수성못 유원지는 1925년에 조성된 인공못으로, 일제강점기에 농업용수 공급을 위해 만들어졌습니다. 이 시기는 한국 역사에서 중요한 전환점으로, 일본의 식민지 지배 아래에서 다양한 사회 기반 시설이 형성되었습니다. 수성못은 당시 농업의 효율성을 높이기 위한 중요한 수자원으로 기능했으며, 지금은 그 역할이 크게 변모하여 지역 주민과 관광객들에게 여가와 휴식을 제공하는 공간으로 자리잡았습니다. 수성못의 조성 과정에서 지역 사회의 필요와 자연 환경이 조화를 이루며, 현대에 이르러서는 수변 휴식공간으로 진화해왔습니다. 그 결과, 수성못은 단순한 저수지를 넘어 자연과 함께하는 명소로 발전했습니다.\\n\\n',\n",
       " ' 질문 2:\\n수성못 유원지에서 제공하는 놀이시설과 활동은 어떤 것들이 있으며, 가족 단위 방문객에게 어떤 매력을 제공하나요?\\n\\n',\n",
       " ' 답변:\\n수성못 유원지는 다양한 놀이시설과 활동으로 가족 단위 방문객들에게 매력을 제공합니다. 수성랜드는 유람선, 바이킹, 범퍼카, 회전목마 등 다양한 놀이기구를 갖추고 있어 어린이와 어른 모두가 즐길 수 있는 공간입니다. 또한, 수성못에서의 보트놀이와 오리배 타기는 가족들이 함께 시간을 보내기에 최적의 활동입니다. 이곳의 자연경관은 아이들에게는 신나는 모험의 공간이 되고, 부모님들에게는 편안한 휴식처가 됩니다. 두산폭포와 같은 볼거리는 시각적으로도 즐거움을 주며, 주변의 산책로는 온 가족이 함께 산책하며 대화를 나누기에 좋은 환경을 제공합니다. 이러한 다양한 시설과 활동으로 인해 수성못 유원지는 가족 나들이에 적합한 장소로 알려져 있습니다.\\n\\n',\n",
       " ' 질문 3:\\n수성못 미디어아트 음악분수는 어떤 특별한 경험을 제공하며, 방문객들에게 어떤 감동을 줄 수 있나요?\\n\\n',\n",
       " ' 답변:\\n수성못 미디어아트 음악분수는 독특한 시각 및 청각적 경험을 제공하는 매력적인 명소입니다. 이 음악분수는 물이 춤추듯 움직이며, 음악과 조명이 어우러져 화려한 쇼를 선보입니다. 특히 저녁 시간대에 진행되는 공연은 방문객들에게 환상적인 분위기를 선사하며, 사람들의 감성을 자극하는 특별한 순간을 만들어냅니다. 음악과 함께 솟구치는 물줄기는 마치 예술 작품처럼 변화무쌍하게 빛나며, 관객들은 그 장관에 매료될 수밖에 없습니다. 이러한 경험은 가족, 친구, 연인과 함께하는 소중한 추억으로 남을 수 있으며, 수성못 유원지를 방문한 모든 이들에게 특별한 감동을 안겨줍니다. 음악분수는 단순한 볼거리를 넘어, 사람들과의 소통과 감정의 교류를 이끌어내는 중요한 장소로 자리잡고 있습니다.']"
      ]
     },
     "execution_count": 59,
     "metadata": {},
     "output_type": "execute_result"
    }
   ],
   "source": [
    "qa_df.iloc[0][\"QA\"].split(\"###\")[1:]"
   ]
  },
  {
   "cell_type": "code",
   "execution_count": null,
   "metadata": {},
   "outputs": [],
   "source": [
    "## "
   ]
  }
 ],
 "metadata": {
  "kernelspec": {
   "display_name": "yanolja_kernel",
   "language": "python",
   "name": "yanolja"
  },
  "language_info": {
   "codemirror_mode": {
    "name": "ipython",
    "version": 3
   },
   "file_extension": ".py",
   "mimetype": "text/x-python",
   "name": "python",
   "nbconvert_exporter": "python",
   "pygments_lexer": "ipython3",
   "version": "3.11.10"
  }
 },
 "nbformat": 4,
 "nbformat_minor": 2
}
